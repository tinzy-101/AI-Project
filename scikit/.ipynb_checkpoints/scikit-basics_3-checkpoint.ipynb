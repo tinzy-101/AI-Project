{
 "cells": [
  {
   "cell_type": "markdown",
   "id": "47ac46c0-e97b-4fc1-9ea8-f5850187161e",
   "metadata": {},
   "source": [
    "### Part 3: Metrics\n",
    "- when using a dataset, and have an X and y, typically create multiple models (not just 1)\n",
    "- might be same type of model, but have diff hyperparams = diff predictions\n",
    "- can use a gridSearch to find the best model"
   ]
  },
  {
   "cell_type": "code",
   "execution_count": null,
   "id": "60a17214-93dc-4ac8-902e-e6c67fd3b8a6",
   "metadata": {},
   "outputs": [],
   "source": []
  }
 ],
 "metadata": {
  "kernelspec": {
   "display_name": "Python 3 (ipykernel)",
   "language": "python",
   "name": "python3"
  },
  "language_info": {
   "codemirror_mode": {
    "name": "ipython",
    "version": 3
   },
   "file_extension": ".py",
   "mimetype": "text/x-python",
   "name": "python",
   "nbconvert_exporter": "python",
   "pygments_lexer": "ipython3",
   "version": "3.12.2"
  }
 },
 "nbformat": 4,
 "nbformat_minor": 5
}
